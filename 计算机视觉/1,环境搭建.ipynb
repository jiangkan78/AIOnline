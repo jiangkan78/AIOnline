{
 "cells": [
  {
   "cell_type": "markdown",
   "metadata": {},
   "source": [
    "# 环境搭建\n",
    "\n",
    "> 学习前先了解对环境的要求，并进行环境搭建\n",
    "> 了解使用了哪些库\n",
    "\n",
    "## 内容\n",
    "\n",
    "* 开发环境简介\n",
    "* 安装Anaconda\n",
    "* 安装依赖库\n",
    "* Jupyter 的使用与配制\n",
    "\n",
    "\n",
    "## 01. 开发环境简介\n",
    "> 计算机视觉的开发需要一系列的配套环境，包括Python环境、计算机视觉库以及其它一些开发库的支持。\n",
    "> 我们使用Anaconda作为Python开发环境，Jupyter作为代码编辑和浏览教学资源的环境，计算机视觉的开发库采用OpenCV。此外，还使用了Numpy、Matplotlib、Scipy等一些提供特定功能的Python库的支持\n",
    "\n",
    "1. Anaconda：采用Anaconda3-5.2.0（对应Python版本：3.6.5）\n",
    "2. OpenCV：4.4.0\n",
    "3. Numpy：1.16.5\n",
    "4. Matplotlib：2.2.2\n",
    "5. Scipy：1.1.0\n",
    "\n",
    "\n",
    "## 02. 安装Anaconda\n",
    "> 对于Python用户来说，最流行的环境管理工具就是Anaconda了。使用它可以方便的切换环境。可以轻松的在Python2和Python3的进行切换并根据需求安装不同版本库。在windows上目前只能安装python3版本。\n",
    "\n",
    "1. 下载镜像，清华大学开源软件镜像站下载地址： https://mirrors.tuna.tsinghua.edu.cn/anaconda/archive/ 选择Anaconda3-5.2.0-Windows-x86_64\n",
    "2. 安装，windows上直接选择exe双击安装，linux上使用sh文件安装。\n",
    "\n",
    "## 03. 安装依赖库\n",
    "> 在windows里通过开始菜单中选择Anaconda文件夹中的Anaconda Prompt运行命令行窗口进行安装所需要的库，在Linux中使用Terminal进行安装，安装的命令相同。如下是要安装的库。\n",
    "\n",
    "* 安装OpenCV\n",
    "  - ubuntu 下安装使用命令：sudo apt-get install libopencv-dev python-opencv，\n",
    "  \n",
    "    如果失败可以尝试命令：conda install --channel https://conda.anaconda.org/menpo opencv\n",
    "  - windows下安装建议使用下载安装包的方式通过https://www.lfd.uci.edu/~gohlke/pythonlibs/ 下载对应版本比如opencv_python-4.4.0-cp36-cp36m-win_amd64.whl对于python3.6的64位windows机器。安装命令为：pip install opencv_python-4.4.0-cp36-cp36m-win_amd64.whl。\n",
    "  - windows下也可以通过命令：conda install opencv 来进行自动安装。\n",
    "  - 如果安装时提示有“requires msgpack,which is not installed”类似字样的错误，则需要先安装msgpack。安装命令为：pip install msgpack 或 pip install msgpack-python\n",
    "* 安装Numpy\n",
    "  - NumPy(Numerical Python) 是 Python 语言的一个扩展程序库，支持大量的维度数组与矩阵运算，此外也针对数组运算提供大量的数学函数库。是一个运行速度非常快的数学库，主要用于数组计算。安装命令为：pip install numpy==1.16.5\n",
    "  - 通过命令“pip install numpy”会进行默认安装。Anaconda3默认安装的版本为1.14.3，这个版本于OpenCV4.4.0存在兼容性问题，因为，需要将版本指定为1.16.5\n",
    "* 安装matplotlib\n",
    "  - Matplotlib 是 Python 的绘图库。 它可与 NumPy 一起使用，提供了一种有效的 MatLab 开源替代方案。安装命令为：pip install matplotlib\n",
    "* 安装Scipy\n",
    "  - Scipy是高端科学计算工具包，用于数学、科学、工程学等领域。Scipy包含的功能：最优化、线性代数、积分、插值、拟合、特殊函数、快速傅里叶变换、信号处理、图像处理、常微分方程求解器等\n",
    "  - 安装命令为：pip install scipy\n",
    "  \n",
    "## 04. Jupyter 使用与配制\n",
    "* Jupyter\n",
    "  - Python 有非常多的集成开发环境可以使用，比如 Jupyter Notebook，Spyder，PyCharm，Eclipse，VSCode 等等，每种开发环境都各有优缺点，如果大家是初学者对各种开发环境不了解的话推荐大家可以先使用Jupyter Notebook。\n",
    "  - Jupyter 是安装完 Anaconda 后自带的一个 Python 开发环境。界面简洁，使用简单，适合快速实验和用于学习。\n",
    "  - Jupyter Notebook 的优点是界面和功能都比较简洁，并且可以实时运行查看程序结果，还可以把程序运行的结果保存在文件中。缺点是不太好开发大型程序，不过对于初学者来说，我们可能暂时还不会接触到大型程序，Jupyter Notebook 基本就够用了。Anaconda 安装完成后桌面上不会增加新的图标，我们需要搜索 Jupyter notebook，找到 Jupyter notebook 的图标Jupyter 的图标，找到后可以右键图标然后发送到桌面快捷方式。 \n",
    "     <div style=\"float:left;border:solid 1px 000;margin:2px;\"><img src=\"../pic/jupyter.png\"  width=\"100\" height=\"100\" ></div>\n",
    "     <div style=\"float:none;clear:both;\"></div>\n",
    "     \n",
    "    双击 Jupyter Notebook，打开后可以看到 Jupyter 是在网页中进行编程的，在 Jupyter 的界面中我们可以对我们电脑本地的文件进行新建，删除和修改。\n",
    "\n",
    "* 配制Jupyter     \n",
    "    - Jupyter Notebook 的默认启动路径为：”C:\\User\\你的用户名\\”。所以 第一次打开 Jupyter Notebook 我们会看到”C:\\User\\你的用户名\\”这个路径的文件出现在 Jupyter Notebook 的主界面。其实 Jupyter Notebook 的启动路径不一定要修改，如果你想使用”C:\\User\\你的用户名\\”或者你觉得修改Jupyter Notebook 默认路径比较麻烦，那么你可以使用默认的”C:\\User\\你的用户名\\”路径作为 Jupyter Notebook 的工作路径。只要把 python 相关的程序（比如上课使用的程序）复制到”C:\\User\\你的用户名\\”路径下，在Jupyter Notebook 的主界面就可以看到你复制的程序，然后在 Jupyter Notebook 环境中就可以对这些程序进行修改和运行了。如果希望把程序存放在其他路径，使用其他路径作为 Jupyter Notebook的工作路径，那么就进行下面的操作。\n",
    "   \n",
    "      首先我们要右键 Jupyter Notebook 的图标，查看属性，然后看到目标，目标最后如果有%USERPROFILE%，则把后面的%USERPROFILE%删掉。\n",
    "   \n",
    "      <div style=\"float:left;border:solid 1px 000;margin:2px;\"><img src=\"../pic/jupyterconfig.png\"  width=\"400\" height=\"400\" ></div>\n",
    "      <div style=\"float:none;clear:both;\"></div>\n",
    "   \n",
    "      打开命令提示符执行：jupyter notebook --generate-config,我们可以看到配置文件生成的位置，我的配置文件生成的位 置是 C:\\Users\\qin\\.jupyter\\jupyter_notebook_config.py，进入系统盘，用户文件下，可以看到一个.jupyter 的文件夹，进入找到 jupyter_notebook_config.py 文件并用记事本打开，找到c.NotebookApp.notebook_dir 配置，去掉#，添入指定的路径就可以了。\n",
    "   \n",
    "* Jupyter常用的快捷键：\n",
    "   \n",
    "   Enter : 转入编辑模式\n",
    "   \n",
    "   Shift-Enter : 运行本单元，选中下个单元\n",
    "\n",
    "   Ctrl-Enter : 运行本单元\n",
    "\n",
    "   Alt-Enter : 运行本单元，在其下插入新单元"
   ]
  },
  {
   "cell_type": "markdown",
   "metadata": {},
   "source": [
    "* 环境搭建完毕后，需要确认一下环境是否正常。可以直接在Anaconda的命令行环境下进行测试。\n",
    "\n",
    "  - 以Windows 10环境为例，通过windows开始菜单找到Anaconda命令行运行图标，点击图标，启动Anaconda命令行\n",
    "  \n",
    "    <div style=\"float:left;border:solid 1px 000;margin:2px;\"><img src=\"../pic/第一步.png\"  width=\"800\" height=\"400\" ></div>\n",
    "    <div style=\"float:left;border:solid 1px 000;margin:2px;\"><img src=\"../pic/第二步.png\"  width=\"800\" height=\"400\" ></div>\n",
    "    <div style=\"float:none;clear:both;\"></div>\n",
    "    \n",
    "  - 在Anaconda命令行下，输入Python，进入Python程序编辑模式。在该模式下，依次输入import cv2，回车；import numpy，回车；import matplotlib.pyplot，回车。如果环境配置错误，则三条import语句输入后会有错误提示；如果环境正确，则如下图所示。\n",
    "  \n",
    "    <div style=\"float:left;border:solid 1px 000;margin:2px;\"><img src=\"../pic/第三步.png\"  width=\"800\" height=\"400\" ></div>"
   ]
  },
  {
   "cell_type": "raw",
   "metadata": {},
   "source": [
    "环境搭建OK了，让我们一起执行下面的Python程序，来看看效果吧。"
   ]
  },
  {
   "cell_type": "code",
   "execution_count": null,
   "metadata": {},
   "outputs": [],
   "source": [
    "import numpy as np\n",
    "import matplotlib.pyplot as plt\n",
    "%matplotlib inline\n",
    "\n",
    "x = np.arange(0, 5, 0.1);\n",
    "y = np.sin(x)\n",
    "plt.plot(x, y)"
   ]
  }
 ],
 "metadata": {
  "kernelspec": {
   "display_name": "Python 3",
   "language": "python",
   "name": "python3"
  },
  "language_info": {
   "codemirror_mode": {
    "name": "ipython",
    "version": 3
   },
   "file_extension": ".py",
   "mimetype": "text/x-python",
   "name": "python",
   "nbconvert_exporter": "python",
   "pygments_lexer": "ipython3",
   "version": "3.6.5"
  }
 },
 "nbformat": 4,
 "nbformat_minor": 2
}
