{
 "cells": [
  {
   "cell_type": "markdown",
   "metadata": {},
   "source": [
    "# 初识计算机视觉\n",
    "\n",
    "\n",
    "## 目标\n",
    "\n",
    "* 了解计算机视觉的简介\n",
    "* 了解计算机视觉的应用\n",
    "* 介绍计算机视觉的发展历程\n",
    "* 计算机视觉的主要实现"
   ]
  },
  {
   "cell_type": "markdown",
   "metadata": {},
   "source": [
    "## 01. 计算机视觉简介\n",
    "\n",
    "    计算机视觉作为一门让机器学会如何去“看”的科学学科，具体的说，就是让机器去识别摄像机拍摄的图片或视频中的物体，检测出物体所在的位置，并对目标物体进行跟踪，从而理解并描述出图片或视频里的场景和故事，以此来模拟人脑视觉系统。因此，计算机视觉也通常被叫做机器视觉，其目的是建立能够从图像或者视频中“感知”信息的人工系统。\n",
    "    计算机视觉作为计算机的视觉系统，它与人的眼睛有所不同，但是有相似之处。人眼能看到物体是因为物体反射的光线刺激人眼的感觉细胞，通过视觉神经在大脑中形成成像。而计算机的视觉是通过摄像头的光敏元件将信号转化成数字信号，之后通过一定的计算将其量化为数字矩阵，表示物体的反射光的强弱。"
   ]
  },
  {
   "cell_type": "markdown",
   "metadata": {},
   "source": [
    "## 02. 计算机视觉的应用\n",
    "\n",
    "- 计算机视觉技术经过几十年的发展，已经在交通（车牌识别、道路违章抓拍）、安防（人脸闸机、小区监控）、金融（刷脸支付、柜台的自动票据识别）、医疗（医疗影像诊断）、工业生产（产品缺陷自动检测）等多个领域应用，影响或正在改变人们的日常生活和工业生产方式。未来，随着技术的不断演进，必将涌现出更多的产品应用，为我们的生活创造更大的便利和更广阔的机会。\n",
    "    <div style=\"float:left;border:solid 1px 000;margin:2px;\"><img src=\"../pic/application.png\"  width=\"600\" height=\"500\" ></div>\n",
    "    <div style=\"float:none;clear:both;\"></div>"
   ]
  }
 ],
 "metadata": {
  "kernelspec": {
   "display_name": "Python 3",
   "language": "python",
   "name": "python3"
  },
  "language_info": {
   "codemirror_mode": {
    "name": "ipython",
    "version": 3
   },
   "file_extension": ".py",
   "mimetype": "text/x-python",
   "name": "python",
   "nbconvert_exporter": "python",
   "pygments_lexer": "ipython3",
   "version": "3.6.5"
  }
 },
 "nbformat": 4,
 "nbformat_minor": 2
}
